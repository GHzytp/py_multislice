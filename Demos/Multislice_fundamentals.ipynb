{
 "cells": [
  {
   "cell_type": "markdown",
   "metadata": {},
   "source": [
    "The first thing to do is to load our specimen into memory and work out the subslicing, we use the function  `generate_slicing_figure` to help us here. We want the red dashed lines to ideally sit just ontop of the atoms in the column. Aim for slices to be spaced around 2 $\\\\AA$."
   ]
  },
  {
   "cell_type": "code",
   "execution_count": null,
   "metadata": {},
   "outputs": [],
   "source": [
    "import pyms\n",
    "import numpy as np\n",
    "%matplotlib inline\n",
    "structure = pyms.structure.fromfile(\"Structures/SrTiO3_CeO2_interface.xyz\",atomic_coordinates='cartesian')\n",
    "# A few maniupulations to remove vaccuum at edges and create a psuedo-periodic\n",
    "# structure\n",
    "structure = structure.resize([0.1, 0.76], axis=0)\n",
    "from copy import deepcopy\n",
    "other = deepcopy(structure).resize([0.017, 0.99], axis=0)\n",
    "other.reflect([0])\n",
    "structure = structure.concatenate(other, axis=0)\n",
    "# Uncomment this line to output a vesta viewable version of this structure\n",
    "# structure.output_vesta_xtl('SrTiO3_CeO2_interface_for_vesta.xtl')\n",
    "\n",
    "\n",
    "# Here is the array determining \n",
    "slice_size = 2/structure.unitcell[2]\n",
    "slices = np.arange(0.02,1.0,slice_size)\n",
    "\n",
    "_ = structure.generate_slicing_figure(slices,show=False)\n"
   ]
  },
  {
   "cell_type": "markdown",
   "metadata": {},
   "source": [
    "Now we need to choose the appropriate tiling and grid sampling for the simulation.\n",
    "\n",
    "A multislice calculation assumes periodic boundary conditions. To avoid artefacts associated with this the pixel grid must be chosen to have sufficient size so that the probe does not artificially interfere with itself through the periodic boundary (wrap around error). The grid sampling must also be sufficient that electrons scattered to high angles are not scattered beyond the band-width limit of the array.\n",
    "\n",
    "The function `generate_probe_spread_plot` plot helps identify whenever these two events are happening. If the probe intensity drops below 0.95 (as a fraction of initial intensity) then the grid is not sampled finely enough, the pixel size of the array (gridshape) needs to increased for finer sampling of the specimen potential. If the probe spread exceeds 0.2 (as a fraction of the array) then too much of the probe is spreading to the edges of the array, the real space size of the array (usually controlled by the tiling of the unit cell) needs to be increased."
   ]
  },
  {
   "cell_type": "code",
   "execution_count": null,
   "metadata": {
    "tags": []
   },
   "outputs": [],
   "source": [
    "\n",
    "import torch\n",
    "\n",
    "# Inadequate pixel sampling - probe intensity will drop too much\n",
    "gridshape = [256, 256]\n",
    "tiling = [1, 7]\n",
    "\n",
    "# Adequate real space sampling - probe will spread outside of simulation array\n",
    "gridshape = [512, 512]\n",
    "tiling = [1, 2]\n",
    "\n",
    "# Adequate pixel sampling\n",
    "#gridshape = [512, 512]\n",
    "#tiling = [1, 4]\n",
    "\n",
    "# The above results might change with these parameters, have a play around\n",
    "# Probe accelerating voltage\n",
    "eV = 3e5\n",
    "app = 20\n",
    "probe_posn = [0.5, 0.0]\n",
    "df = 0\n",
    "thickness = 200\n",
    "\n",
    "_ = pyms.generate_probe_spread_plot(\n",
    "    gridshape,\n",
    "    structure,\n",
    "    eV,\n",
    "    app,\n",
    "    thickness,\n",
    "    subslices=slices,\n",
    "    tiling=tiling,\n",
    "    showcrossection=True,\n",
    "    probe_posn=probe_posn,\n",
    "    df = df,\n",
    "    device=torch.device('cpu')\n",
    ")"
   ]
  },
  {
   "cell_type": "code",
   "execution_count": null,
   "metadata": {},
   "outputs": [],
   "source": []
  }
 ],
 "metadata": {
  "kernelspec": {
   "display_name": "Python 3.7.3 64-bit ('base': conda)",
   "name": "python37364bitbaseconda893ca6528fdd4be7bce01722268a7646"
  },
  "language_info": {
   "codemirror_mode": {
    "name": "ipython",
    "version": 3
   },
   "file_extension": ".py",
   "mimetype": "text/x-python",
   "name": "python",
   "nbconvert_exporter": "python",
   "pygments_lexer": "ipython3",
   "version": "3.7.3-final"
  }
 },
 "nbformat": 4,
 "nbformat_minor": 2
}
