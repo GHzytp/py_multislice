{
 "cells": [
  {
   "cell_type": "markdown",
   "metadata": {},
   "source": [
    "This notebook runs over some considerations in setting up a good calculation including making sure that the structure input is correct (ie. correct units and atomic vibration amplitudes) and that the simulation grid is appropriately sized (in Angstroms) and adequately sampled (in Angstroms per pixel).\n",
    "\n",
    "First we need mind the units of the atomic coordinates and their vibrational amplitude. The cell belows shows correct and incorrect "
   ]
  },
  {
   "cell_type": "code",
   "execution_count": null,
   "metadata": {},
   "outputs": [],
   "source": [
    "import pyms\n",
    "%pylab\n",
    "%matplotlib inline\n",
    "tiling = [4,4]\n",
    "gridshape= [512,512]\n",
    "\n",
    "fig,ax  = plt.subplots(ncols=3,figsize=(12,4))\n",
    "for a in ax:\n",
    "    a.set_axis_off()\n",
    "\n",
    "# The example structure is Si 100, and the input file has atomic coordinates\n",
    "# in cartesian units (the default is fractional units) and atomic vibrational\n",
    "# amplitudes in units of root mean square vibration in Angstroms (the\n",
    "# default is mean square vibration). The structure looks a little off\n",
    "# and the calculations will be very wrong if this step is not done properly:\n",
    "    \n",
    "    \n",
    "structure = pyms.structure.fromfile(\"Structures/Si100.xyz\",temperature_factor_units='urms',atomic_coordinates='cartesian')\n",
    "ax[0].imshow(structure.make_potential(gridshape,tiling=tiling).cpu().numpy()[0])\n",
    "ax[0].set_title('Correct atomic coordinate and vibrational\\namplitude units')\n",
    "structure = pyms.structure.fromfile(\"Structures/Si100.xyz\",atomic_coordinates='fractional',temperature_factor_units='urms')\n",
    "ax[1].set_title('Incorrect atomic coordinate units')\n",
    "ax[1].imshow(structure.make_potential(gridshape,tiling=tiling).cpu().numpy()[0])\n",
    "ax[2].set_title('Incorrect vibrational amplitude units')\n",
    "structure = pyms.structure.fromfile(\"Structures/Si100.xyz\",temperature_factor_units='ums',atomic_coordinates='cartesian')\n",
    "ax[2].imshow(structure.make_potential(gridshape,tiling=tiling).cpu().numpy()[0])"
   ]
  },
  {
   "cell_type": "markdown",
   "metadata": {},
   "source": [
    "We now cover pixel grid selection with the example of the SrTiO$_3$-CeO$_2$ interface. The first thing to do is to load our specimen into memory and work out the subslicing, we use the function  `generate_slicing_figure` to help us here. We want the red dashed lines to ideally sit just ontop of the atoms in the column. Aim for slices to be spaced around 2 Å."
   ]
  },
  {
   "cell_type": "code",
   "execution_count": null,
   "metadata": {},
   "outputs": [],
   "source": [
    "import pyms\n",
    "import numpy as np\n",
    "%matplotlib inline\n",
    "structure = pyms.structure.fromfile(\"Structures/Si100.xyz\",temperature_factor_units='urms',atomic_coordinates='cartesian')\n",
    "\n",
    "# Even slicing: some minor errors will exhibit in the calculation\n",
    "# slice_size = 2/structure.unitcell[2]\n",
    "nslices = int(np.ceil(structure.unitcell[2]/2))\n",
    "slices = np.linspace(1.0/nslices,1.0,nslices)\n",
    "slices[-1]=1.0\n",
    "# bespoke slicing: minimal error\n",
    "slices = np.asarray([1.26,2.7,4.00]) /structure.unitcell[2]\n",
    "\n",
    "_ = structure.generate_slicing_figure(slices,show=False)\n"
   ]
  },
  {
   "cell_type": "markdown",
   "metadata": {},
   "source": [
    "Now we need to choose the appropriate tiling and grid sampling for the simulation.\n",
    "\n",
    "A multislice calculation assumes periodic boundary conditions. To avoid artefacts associated with this the pixel grid must be chosen to have sufficient size so that the probe does not artificially interfere with itself through the periodic boundary (wrap around error). The grid sampling must also be sufficient that electrons scattered to high angles are not scattered beyond the band-width limit of the array.\n",
    "\n",
    "The function `generate_probe_spread_plot` plot helps identify whenever these two events are happening. If the probe intensity drops below 0.95 (as a fraction of initial intensity) then the grid is not sampled finely enough, the pixel size of the array (gridshape) needs to increased for finer sampling of the specimen potential. If the probe spread exceeds 0.2 (as a fraction of the array) then too much of the probe is spreading to the edges of the array, the real space size of the array (usually controlled by the tiling of the unit cell) needs to be increased."
   ]
  },
  {
   "cell_type": "code",
   "execution_count": null,
   "metadata": {
    "tags": []
   },
   "outputs": [],
   "source": [
    "\n",
    "import torch\n",
    "\n",
    "# Inadequate pixel sampling - probe intensity will drop too much\n",
    "gridshape = [128, 128]\n",
    "tiling = [6, 6]\n",
    "\n",
    "# Adequate real space sampling - probe will spread outside of simulation array\n",
    "gridshape = [512, 512]\n",
    "tiling = [4, 4]\n",
    "\n",
    "# Adequate pixel sampling\n",
    "gridshape = [512, 512]\n",
    "tiling = [8, 8]\n",
    "\n",
    "# The above results might change with these parameters, have a play around\n",
    "# Probe accelerating voltage\n",
    "eV = 3e5\n",
    "app = 20\n",
    "probe_posn = [0.5, 0.0]\n",
    "df = 0\n",
    "thickness = 500\n",
    "\n",
    "_ = pyms.generate_probe_spread_plot(\n",
    "    gridshape,\n",
    "    structure,\n",
    "    eV,\n",
    "    app,\n",
    "    thickness,\n",
    "    subslices=slices,\n",
    "    tiling=tiling,\n",
    "    showcrossection=True,\n",
    "    probe_posn=probe_posn,\n",
    "    df = df,\n",
    "    device=torch.device('cuda')\n",
    ")"
   ]
  },
  {
   "cell_type": "code",
   "execution_count": null,
   "metadata": {},
   "outputs": [],
   "source": []
  }
 ],
 "metadata": {
  "kernelspec": {
   "display_name": "Python 3 (ipykernel)",
   "language": "python",
   "name": "python3"
  },
  "language_info": {
   "codemirror_mode": {
    "name": "ipython",
    "version": 3
   },
   "file_extension": ".py",
   "mimetype": "text/x-python",
   "name": "python",
   "nbconvert_exporter": "python",
   "pygments_lexer": "ipython3",
   "version": "3.9.7"
  }
 },
 "nbformat": 4,
 "nbformat_minor": 2
}
