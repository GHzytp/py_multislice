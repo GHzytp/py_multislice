{
 "cells": [
  {
   "cell_type": "markdown",
   "metadata": {},
   "source": [
    "For this demonstration we will be simulating a SrTiO3 CeO2 interface downloaded from https://www.materialscloud.org/explore/stoceriaitf/grid/calculations. We first import the multislice library, read in and plot the crystal and set up some basic parameters for our simulation."
   ]
  },
  {
   "cell_type": "code",
   "execution_count": null,
   "metadata": {},
   "outputs": [],
   "source": [
    "import pyms\n",
    "import numpy as np\n",
    "\n",
    "%matplotlib notebook\n",
    "import matplotlib.pyplot as plt\n",
    "#Get crystal\n",
    "crystal = pyms.crystal('Structures/SrTiO3_CeO2_interface.xyz',\n",
    "                atomic_coordinates = \"cartesian\")\n",
    "\n",
    "#A few maniupulations to remove vaccuum at edges and create a psuedo-periodic\n",
    "#structure\n",
    "crystal = crystal.slice([0.1,0.76],axis=0)\n",
    "from copy import deepcopy\n",
    "other = deepcopy(crystal).slice([0.017,0.99],axis=0)\n",
    "other.reflect([0])\n",
    "crystal = crystal.concatenate_crystals(other,axis=0)\n",
    "\n",
    "#Output structure for examination in Vesta \n",
    "crystal.output_vesta_xtl('manipulated.xtl')\n",
    "\n",
    "#Quick plot of crystal\n",
    "crystal.quickplot(atomscale=1e-5)\n",
    "\n",
    "#Subslicing of crystal for multislice\n",
    "subslices = [0.33,0.66,1.0]\n",
    "nsubslices = len(subslices)\n",
    "\n",
    "#Grid size in pixels\n",
    "gridshape = [1024,1024]\n",
    "tiling = [1,7]\n",
    "\n",
    "#Size of real space grid\n",
    "rsize = np.zeros((3,))\n",
    "rsize[:3]  = crystal.unitcell[:3]\n",
    "rsize[:2] *= np.asarray(tiling)\n",
    "\n",
    "#Number of transmission functions\n",
    "nT = 2\n",
    "\n",
    "#Probe accelerating voltage in eV\n",
    "eV = 3e5\n",
    "\n",
    "#Objective aperture in mrad\n",
    "app = 15\n",
    "\n",
    "#Number of frozen phonon passes\n",
    "nfph = 25"
   ]
  },
  {
   "cell_type": "markdown",
   "metadata": {},
   "source": [
    "Set up and look at transmission functions"
   ]
  },
  {
   "cell_type": "code",
   "execution_count": null,
   "metadata": {},
   "outputs": [],
   "source": [
    "import torch\n",
    "from pyms.utils import cx_to_numpy\n",
    "\n",
    "# Transmission functions wouldn't fit on the GPU of my test computer, uncomment the following\n",
    "# to utilize GPU acceleration\n",
    "#Choose GPU if available and CPU if not\n",
    "# if (torch.cuda.is_available()): \n",
    "#     device = torch.device('cuda:0')\n",
    "# else:\n",
    "device = torch.device('cpu')\n",
    "\n",
    "#Subslice every 2 Angstrom\n",
    "nsubslices = int(np.ceil(crystal.unitcell[2]/2))\n",
    "subslices = np.linspace(1.0/nsubslices,1.0,num = nsubslices)\n",
    "\n",
    "#Initialize array to store transmission functions in\n",
    "T = torch.zeros(nT,nsubslices,*gridshape,2,device=device,dtype = torch.float)\n",
    "\n",
    "#Make transmission functions\n",
    "for i in range(nT):\n",
    "    T[i,:,:,:] = crystal.make_transmission_functions(gridshape,eV,subslices,tiling,fftout=True,device=device)\n",
    "\n",
    "\n",
    "from ipywidgets import interact, interactive, fixed, interact_manual\n",
    "import ipywidgets as widgets\n",
    "\n",
    "#Now plot transmission function with slider widget to inspect individual slices\n",
    "\n",
    "fig,ax = plt.subplots(figsize=(4,4))\n",
    "p = ax.imshow(np.angle(cx_to_numpy(T[0,0,...])),vmax=0.6*np.amax(np.angle(T[0,0,...])),vmin=np.amin(np.angle(T[0,0,...])))\n",
    "ax.set_axis_off()\n",
    "\n",
    "def plot_img(i,img,p):\n",
    "    p.set_data(np.angle(cx_to_numpy(img[0,i,...])))\n",
    "    fig.canvas.draw_idle()\n",
    "#     p.set_title()\n",
    "\n",
    "widg = widgets.IntSlider(\n",
    "    value=0,\n",
    "    min=0,\n",
    "    max=T.shape[1]-1,\n",
    "    step=1,\n",
    "    description='Slice:',\n",
    "    disabled=False,\n",
    "    continuous_update=True,\n",
    "    orientation='horizontal',\n",
    "    readout=True,\n",
    "    readout_format='d'\n",
    ")\n",
    "interact(plot_img,i=widg,img=fixed(T), p=fixed(p))"
   ]
  },
  {
   "cell_type": "markdown",
   "metadata": {},
   "source": [
    "Now calculate TEM images for a range of defocii"
   ]
  },
  {
   "cell_type": "code",
   "execution_count": null,
   "metadata": {},
   "outputs": [],
   "source": [
    "from tqdm import tqdm\n",
    "\n",
    "\n",
    "# Make Fresnel free-space propagators for multislice algorithm\n",
    "propagators = pyms.make_propagators(gridshape,rsize,eV,subslices)\n",
    "\n",
    "# Set up thickness series\n",
    "tstep = 100\n",
    "thicknesses = np.asarray([200])\n",
    "nt = thicknesses.shape[0]\n",
    "\n",
    "nfph = 10\n",
    "\n",
    "\n",
    "\n",
    "#Make lens contrast transfer functions for a defocus series\n",
    "defocii = np.arange(-2e3,2e3+1,1e2)\n",
    "ndf = defocii.shape[0]\n",
    "gridout = pyms.utils.size_of_bandwidth_limited_array(gridshape)\n",
    "CTFs = np.zeros((ndf,*gridout),dtype=np.complex)\n",
    "\n",
    "for idf,df in enumerate(defocii):\n",
    "    CTFs[idf,...] = pyms.make_contrast_transfer_function(gridout,rsize,eV,app,df=df)\n",
    "\n",
    "#initialize array to store output\n",
    "output = np.zeros((ndf,*gridout))\n",
    "    \n",
    "#Iteration over frozen phonon configurations\n",
    "for ifph in tqdm(range(nfph)):\n",
    "    # Make probe\n",
    "    probe = pyms.plane_wave_illumination(gridshape,rsize)\n",
    "    \n",
    "    # Run multislice\n",
    "    for it,t in enumerate(thicknesses):\n",
    "        probe = pyms.multislice(probe,int(np.ceil(tstep/crystal.unitcell[2])),propagators,T,\n",
    "                                tiling=tiling\n",
    "                                ,device_type=device)\n",
    "        for idf in range(ndf):\n",
    "            output[idf,...] = np.abs(np.fft.ifft2(np.fft.fft2(probe)*CTFs[idf,...]))**2\n",
    "\n",
    "output/= nfph\n",
    "\n",
    "    "
   ]
  },
  {
   "cell_type": "markdown",
   "metadata": {},
   "source": [
    "Plot resulting images"
   ]
  },
  {
   "cell_type": "code",
   "execution_count": null,
   "metadata": {},
   "outputs": [],
   "source": [
    "fig,ax = plt.subplots(figsize=(4,4))\n",
    "p = ax.imshow(output[0,...],vmax=0.6*np.amax(output),vmin=np.amin(output),\n",
    "             cmap=plt.get_cmap('gray'))\n",
    "ax.set_axis_off()\n",
    "\n",
    "def plot_img(i,img,p):\n",
    "    p.set_data(img[i,...])\n",
    "    fig.canvas.draw_idle()\n",
    "#     p.set_title()\n",
    "\n",
    "widg = widgets.IntSlider(\n",
    "    value=0,\n",
    "    min=0,\n",
    "    max=output.shape[0]-1,\n",
    "    step=1,\n",
    "    description='Test:',\n",
    "    disabled=False,\n",
    "    continuous_update=True,\n",
    "    orientation='horizontal',\n",
    "    readout=True,\n",
    "    readout_format='d'\n",
    ")\n",
    "interact(plot_img,i=widg,img=fixed(output), p=fixed(p))"
   ]
  },
  {
   "cell_type": "code",
   "execution_count": null,
   "metadata": {},
   "outputs": [],
   "source": [
    "fig,ax= plt.subplots()\n",
    "ax.imshow(np.sum(np.angle(cx_to_numpy(T)),axis=(0,1)))\n"
   ]
  },
  {
   "cell_type": "markdown",
   "metadata": {},
   "source": [
    "Set up precession"
   ]
  },
  {
   "cell_type": "code",
   "execution_count": null,
   "metadata": {},
   "outputs": [],
   "source": [
    "precession_angle = 15\n",
    "n_azimuths = 32\n",
    "azimuths = np.linspace(0,2*np.pi,num=nazimuths,endpoint=False)\n",
    "tilts = precession_angle*np.asarray([np.cos(azimuths),np.sin(azimuths)])\n",
    "\n",
    "output = np.zeros((ndf,*gridshape))\n",
    "\n",
    "#Iteration over frozen phonon configurations\n",
    "for itilt in tqdm(range(nazimuths)):\n",
    "    for ifph in range(nfph):\n",
    "        # Make probe\n",
    "        probe = pyms.plane_wave_illumination(gridshape,rsize[:2],tilts[:,itilt],eV=eV)\n",
    "\n",
    "        # Run multislice\n",
    "        for it,t in enumerate(thicknesses):\n",
    "            probe = pyms.multislice(probe,propagators,T,\n",
    "                                    int(np.ceil(tstep/crystal.unitcell[2])),tiling=tiling\n",
    "                                    ,device_type=device)\n",
    "            for idf in range(ndf):\n",
    "                output[idf,...] += np.abs(np.fft.ifft2(np.fft.fft2(probe)*CTFs[idf,...]))**2\n",
    "\n",
    "fig,ax = plt.subplots()\n",
    "ax.plot(tilts[0,:],tilts[1,:],'ro')"
   ]
  },
  {
   "cell_type": "code",
   "execution_count": null,
   "metadata": {},
   "outputs": [],
   "source": [
    "print(rsize)\n"
   ]
  },
  {
   "cell_type": "code",
   "execution_count": null,
   "metadata": {},
   "outputs": [],
   "source": [
    "fig,ax = plt.subplots(figsize=(4,4))\n",
    "p = ax.imshow(output[0,...],vmax=0.6*np.amax(output),vmin=np.amin(output),\n",
    "             cmap=plt.get_cmap('gray'))\n",
    "ax.set_axis_off()\n",
    "\n",
    "def plot_img(i,img,p):\n",
    "    p.set_data(img[i,...])\n",
    "    fig.canvas.draw_idle()\n",
    "#     p.set_title()\n",
    "\n",
    "widg = widgets.IntSlider(\n",
    "    value=0,\n",
    "    min=0,\n",
    "    max=output.shape[0]-1,\n",
    "    step=1,\n",
    "    description='Test:',\n",
    "    disabled=False,\n",
    "    continuous_update=True,\n",
    "    orientation='horizontal',\n",
    "    readout=True,\n",
    "    readout_format='d'\n",
    ")\n",
    "interact(plot_img,i=widg,img=fixed(output), p=fixed(p))"
   ]
  },
  {
   "cell_type": "code",
   "execution_count": null,
   "metadata": {},
   "outputs": [],
   "source": [
    "import h5py\n",
    "\n",
    "with h5py.File(\"Precession_TEM.hdf5\", \"w\") as f:\n",
    "    f.create_dataset('Defocus_series',shape = output.shape,data=output,dtype=output.dtype)"
   ]
  },
  {
   "cell_type": "code",
   "execution_count": null,
   "metadata": {},
   "outputs": [],
   "source": []
  }
 ],
 "metadata": {
  "kernelspec": {
   "display_name": "Python 3",
   "language": "python",
   "name": "python3"
  },
  "language_info": {
   "codemirror_mode": {
    "name": "ipython",
    "version": 3
   },
   "file_extension": ".py",
   "mimetype": "text/x-python",
   "name": "python",
   "nbconvert_exporter": "python",
   "pygments_lexer": "ipython3",
   "version": "3.7.3"
  }
 },
 "nbformat": 4,
 "nbformat_minor": 2
}
