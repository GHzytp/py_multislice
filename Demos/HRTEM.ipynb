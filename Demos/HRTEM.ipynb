{
 "cells": [
  {
   "cell_type": "markdown",
   "metadata": {},
   "source": [
    "For this demonstration we will be simulating a SrTiO3 CeO2 interface downloaded from https://www.materialscloud.org/explore/stoceriaitf/grid/calculations. We will need to do some manipulations to make the structure suitable for TEM simulation"
   ]
  },
  {
   "cell_type": "code",
   "execution_count": null,
   "metadata": {
    "tags": []
   },
   "outputs": [],
   "source": [
    "import pyms\n",
    "import numpy as np\n",
    "import torch\n",
    "\n",
    "# for creating a responsive plot\n",
    "%matplotlib widget\n",
    "# Get crystal\n",
    "crystal = pyms.structure.fromfile(\n",
    "    \"Structures/SrTiO3_CeO2_interface.xyz\", atomic_coordinates=\"cartesian\"\n",
    ")\n",
    "\n",
    "# A few maniupulations to remove vaccuum at edges and create a psuedo-periodic\n",
    "# structure\n",
    "crystal = crystal.resize([0.1, 0.76], axis=0)\n",
    "from copy import deepcopy\n",
    "\n",
    "other = deepcopy(crystal).resize([0.017, 0.99], axis=0)\n",
    "other.reflect([0])\n",
    "crystal = crystal.concatenate(other, axis=0)\n",
    "\n",
    "# Output structure for examination in Vesta\n",
    "# crystal.output_vesta_xtl(\"manipulated.xtl\")\n",
    "\n",
    "# Quick plot of crystal\n",
    "crystal.quickplot(atomscale=0.1,block=False,)"
   ]
  },
  {
   "cell_type": "markdown",
   "metadata": {},
   "source": [
    "Now lets run the calculation and plot the results"
   ]
  },
  {
   "cell_type": "code",
   "execution_count": null,
   "metadata": {
    "tags": []
   },
   "outputs": [],
   "source": [
    "# Probe accelerating voltage in eV\n",
    "eV = 3e5\n",
    "\n",
    "# Objective aperture in mrad, set to None for no aperture\n",
    "app = 15\n",
    "\n",
    "# Set up series of thicknesses\n",
    "thicknesses = np.arange(100, 801, 200)\n",
    "\n",
    "# Set up  series of defocii\n",
    "df = np.arange(-400, 401, 200)\n",
    "\n",
    "output,Aperpix = pyms.HRTEM(\n",
    "    crystal,\n",
    "    eV,\n",
    "    app,\n",
    "    thicknesses,\n",
    "    df=df,\n",
    "    showProgress='notebook'\n",
    ")\n",
    "\n",
    "\n",
    "# Crop output to focus on interface\n",
    "output = output[...,:output.shape[-2]//2,:]\n",
    "\n",
    "import matplotlib.pyplot as plt\n",
    "ny,nx = output.shape[-2:]\n",
    "# Plot images\n",
    "fig, ax = plt.subplots(figsize=(16,16))\n",
    "ax.set_xticks(np.arange(nx/2,(len(thicknesses)+0.5)*nx,nx))\n",
    "ax.set_xticklabels(thicknesses)\n",
    "ax.set_xlabel('Thickness ($\\AA$)')\n",
    "ax.set_yticks(np.arange(ny/2,(len(df)+0.5)*ny,ny))\n",
    "ax.set_yticklabels(df)\n",
    "ax.set_ylabel('Defocus ($\\AA$)')\n",
    "\n",
    "\n",
    "# Stack defocii (first dimension of output) and thicknesses (second dimension of output)\n",
    "# to make a thickness defocus series\n",
    "montage = np.hstack(np.hstack(output))\n",
    "ax.imshow(montage)\n",
    "\n",
    "# Plot a white border to differentiate images in the montage\n",
    "xlim = ax.get_xlim()\n",
    "ylim = ax.get_ylim()\n",
    "for i in range(len(thicknesses)):\n",
    "    ax.plot([i*output.shape[-1],i*output.shape[-1]],[0,montage.shape[-2]],'w-')\n",
    "\n",
    "for i in range(len(df)):\n",
    "    ax.plot([0,montage.shape[-1]],[i*output.shape[-2],i*output.shape[-2]],'w-')\n",
    "ax.set_xlim(xlim)\n",
    "ax.set_ylim(ylim)"
   ]
  },
  {
   "cell_type": "code",
   "execution_count": null,
   "metadata": {},
   "outputs": [],
   "source": []
  }
 ],
 "metadata": {
  "kernelspec": {
   "display_name": "Python 3 (ipykernel)",
   "language": "python",
   "name": "python3"
  },
  "language_info": {
   "codemirror_mode": {
    "name": "ipython",
    "version": 3
   },
   "file_extension": ".py",
   "mimetype": "text/x-python",
   "name": "python",
   "nbconvert_exporter": "python",
   "pygments_lexer": "ipython3",
   "version": "3.10.14"
  }
 },
 "nbformat": 4,
 "nbformat_minor": 4
}
