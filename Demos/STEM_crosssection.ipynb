{
 "cells": [
  {
   "cell_type": "code",
   "execution_count": 1,
   "metadata": {},
   "outputs": [
    {
     "name": "stdout",
     "output_type": "stream",
     "text": [
      "Max resolution permitted by the sample grid is 107.55435296085659 mrad\n"
     ]
    }
   ],
   "source": [
    "import pyms\n",
    "import numpy as np\n",
    "import matplotlib.pyplot as plt\n",
    "import torch\n",
    "%matplotlib inline\n",
    "\n",
    "# Get crystal\n",
    "crystal = pyms.structure.fromfile('Structures/SrTiO3.xyz',temperature_factor_units='ums')\n",
    "\n",
    "gridshape = [256,256] # Grid size in pixels\n",
    "tiling = [4,4] # Tile out grid to acceptable size\n",
    "eV = 3e5 # Probe accelerating voltage in eV\n",
    "app = 15 # Probe-forming aperture in mrad\n",
    "\n",
    "# Set up thickness series\n",
    "thicknesses = np.asarray([3.905,3.905*4])\n",
    "# thicknesses = np.asarray([50,100, 200])\n",
    "\n",
    "# Subslicing of crystal for multislice\n",
    "nslices = int(np.ceil(crystal.unitcell[2]/2))\n",
    "#nslices = 1\n",
    "subslices = np.linspace(1.0/nslices,1.0,nslices)\n",
    "nsubslices = len(subslices)\n",
    "\n",
    "# # Number of frozen phonon passes\n",
    "# nfph = 5\n",
    "# Run absorptive calculation\n",
    "nT=0\n",
    "nfph=1\n",
    "\n",
    "# Define detector inner and outer angles\n",
    "# in order, a central bright-field detector, an annular \n",
    "# bright-field (ABF) detector \n",
    "detectors = [[0,app/2], [app/2,app]]\n",
    "\n",
    "# If only 4D-STEM is requested set detectors to be None\n",
    "# detectors = None\n",
    "\n",
    "# 4D-STEM options:\n",
    "\n",
    "# No 4D-STEM\n",
    "FourDSTEM = False\n",
    "\n",
    "# Probe defocus, an array can be provided for a defocus series\n",
    "df = 0\n",
    "\n",
    "# Define transitions on which cross-section calculations will be based\n",
    "signal_list = [{\"signal\":\"EELS\",\"Z\":8,\"shell\":\"1s\",\"E0\":eV,\"DeltaE\":35,},{\"signal\":\"EELS\",\"Z\":22,\"shell\":\"2p\",\"E0\":eV,\"DeltaE\":35,}]\n",
    "nsignals = len(signal_list)\n",
    "\n",
    "# Option for more control over the device which performs the \n",
    "# calculation.\n",
    "# GPU (CUDA) calculation\n",
    "device = torch.device('cuda')\n",
    "# CPU only calculation\n",
    "# device = torch.device('cpu')\n",
    "\n",
    "print('Max resolution permitted by the sample grid is {0} mrad'.format(pyms.max_grid_resolution(gridshape,np.asarray(tiling)*crystal.unitcell[:2],eV=eV)))"
   ]
  },
  {
   "cell_type": "code",
   "execution_count": 2,
   "metadata": {},
   "outputs": [
    {
     "name": "stderr",
     "output_type": "stream",
     "text": [
      "Probe positions: 100%|██████████| 144/144 [00:05<00:00, 24.50it/s]\n",
      "Frozen phonon iteration: 100%|██████████| 1/1 [00:06<00:00,  6.53s/it]\n"
     ]
    },
    {
     "name": "stdout",
     "output_type": "stream",
     "text": [
      "elapsed time in seconds:  8.138468265533447\n"
     ]
    },
    {
     "data": {
      "text/plain": [
       "<matplotlib.colorbar.Colorbar at 0x1b9d4f2bdc0>"
      ]
     },
     "execution_count": 2,
     "metadata": {},
     "output_type": "execute_result"
    },
    {
     "data": {
      "image/png": "[encoded data removed]",
      "text/plain": [
       "<Figure size 640x480 with 8 Axes>"
      ]
     },
     "metadata": {},
     "output_type": "display_data"
    }
   ],
   "source": [
    "import time\n",
    "t = time.time()\n",
    "\n",
    "result2 = pyms.STEM_multislice(\n",
    "    crystal,\n",
    "    gridshape,\n",
    "    eV,\n",
    "    app,\n",
    "    thicknesses,\n",
    "    subslices=subslices,\n",
    "    device_type=device,\n",
    "    df=0,\n",
    "    nfph=nfph,\n",
    "    batch_size=1,\n",
    "    FourD_STEM=FourDSTEM,\n",
    "    PACBED=True,\n",
    "    tiling=tiling,\n",
    "    detector_ranges=detectors,\n",
    "    signal_list=signal_list,\n",
    ")\n",
    "\n",
    "elapsed = time.time() - t\n",
    "print('elapsed time in seconds: ',elapsed)\n",
    "\n",
    "# TEMP FUDGE\n",
    "# fig = plt.figure()\n",
    "# ax = fig.add_subplot(1, 2, 1)\n",
    "# imgplot = plt.imshow(np.squeeze(result2[\"STEM crosssection images\"][0,:,:]))\n",
    "# ax.set_axis_off()\n",
    "# plt.colorbar(orientation='horizontal')\n",
    "# ax = fig.add_subplot(1, 2, 2)\n",
    "# imgplot = plt.imshow(np.squeeze(result2[\"STEM crosssection images\"][1,:,:]))\n",
    "# ax.set_axis_off()\n",
    "# plt.colorbar(orientation='horizontal')\n",
    "fig = plt.figure()\n",
    "ax = fig.add_subplot(2, 2, 1)\n",
    "imgplot = plt.imshow(result2[\"STEM crosssection images\"][0,0,:,:])\n",
    "ax.set_axis_off()\n",
    "plt.colorbar(orientation='horizontal')\n",
    "ax = fig.add_subplot(2, 2, 2)\n",
    "imgplot = plt.imshow(result2[\"STEM crosssection images\"][1,0,:,:])\n",
    "ax.set_axis_off()\n",
    "plt.colorbar(orientation='horizontal')\n",
    "ax = fig.add_subplot(2, 2, 3)\n",
    "imgplot = plt.imshow(result2[\"STEM crosssection images\"][0,1,:,:])\n",
    "ax.set_axis_off()\n",
    "plt.colorbar(orientation='horizontal')\n",
    "ax = fig.add_subplot(2, 2, 4)\n",
    "imgplot = plt.imshow(result2[\"STEM crosssection images\"][1,1,:,:])\n",
    "ax.set_axis_off()\n",
    "plt.colorbar(orientation='horizontal')"
   ]
  }
 ],
 "metadata": {
  "kernelspec": {
   "display_name": "ms1",
   "language": "python",
   "name": "python3"
  },
  "language_info": {
   "codemirror_mode": {
    "name": "ipython",
    "version": 3
   },
   "file_extension": ".py",
   "mimetype": "text/x-python",
   "name": "python",
   "nbconvert_exporter": "python",
   "pygments_lexer": "ipython3",
   "version": "3.10.8"
  },
  "orig_nbformat": 4
 },
 "nbformat": 4,
 "nbformat_minor": 2
}
