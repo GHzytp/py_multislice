{
 "cells": [
  {
   "cell_type": "markdown",
   "metadata": {},
   "source": [
    "We will simulate convergent beam electron diffraction (CBED) patterns for Dicalcium aluminium alumosilicate (http://www.crystallography.net/cod/1000048.html). We first import the multislice library, read in and plot the crystal and set up some basic parameters for our simulation"
   ]
  },
  {
   "cell_type": "code",
   "execution_count": null,
   "metadata": {},
   "outputs": [],
   "source": [
    "import pyms\n",
    "import numpy as np\n",
    "\n",
    "import matplotlib.pyplot as plt\n",
    "\n",
    "#Get crystal\n",
    "crystal = pyms.crystal('Structures/1000048.p1',temperature_factor_units='B')\n",
    "\n",
    "#Quick plot of crystal\n",
    "crystal.quickplot()\n",
    "\n",
    "#Subslicing of crystal for multislice\n",
    "subslices = [0.33,0.66,1.0]\n",
    "nsubslices = len(subslices)\n",
    "\n",
    "#Grid size in pixels\n",
    "gridshape = [1024,1024]\n",
    "tiling = [32,32]\n",
    "\n",
    "#Size of real space grid\n",
    "rsize = np.zeros((3,))\n",
    "rsize[:3]  = crystal.unitcell[:3]\n",
    "rsize[:2] *= np.asarray(tiling)\n",
    "\n",
    "#Number of transmission functions\n",
    "nT = 4\n",
    "\n",
    "#Probe accelerating voltage in eV\n",
    "eV = 3e5\n",
    "\n",
    "#Probe forming aperture in mrad\n",
    "app = 3 \n",
    "\n",
    "#Number of frozen phonon passes\n",
    "nfph = 25\n"
   ]
  },
  {
   "cell_type": "markdown",
   "metadata": {},
   "source": [
    "Set up and look at transmission functions"
   ]
  },
  {
   "cell_type": "code",
   "execution_count": null,
   "metadata": {},
   "outputs": [],
   "source": [
    "import torch\n",
    "from pyms.utils import cx_to_numpy\n",
    "\n",
    "#Choose GPU if available and CPU if not\n",
    "if (torch.cuda.is_available()):\n",
    "    device = torch.device('cuda:0')\n",
    "else:\n",
    "    device = torch.device('cpu')\n",
    "\n",
    "#Initialize array to store transmission functions in\n",
    "T = torch.zeros(nT,nsubslices,*gridshape,2,device=device)\n",
    "\n",
    "#Make transmission functions\n",
    "for i in range(nT):\n",
    "    T[i,:,:] = crystal.make_transmission_functions(gridshape,eV,subslices,tiling,fftout=True,device=device)\n",
    "\n",
    "#Plot the different slices of the unit cell\n",
    "nrows = nsubslices\n",
    "figsize = 8\n",
    "fig,ax = plt.subplots(nrows=nrows,figsize=(figsize,figsize*nrows))\n",
    "for i in range(nrows):\n",
    "    ax[i].imshow(np.angle(cx_to_numpy(T[0,i,:gridshape[0]//tiling[0]*4,:gridshape[1]//tiling[1]*4])))\n",
    "    ax[i].set_axis_off()"
   ]
  },
  {
   "cell_type": "markdown",
   "metadata": {},
   "source": [
    "Now calculate CBED pattern and plot for a range of thicknesses"
   ]
  },
  {
   "cell_type": "code",
   "execution_count": null,
   "metadata": {},
   "outputs": [],
   "source": [
    "from tqdm import tqdm\n",
    "\n",
    "\n",
    "# Make Fresnel free-space propagators for multislice algorithm\n",
    "propagators = pyms.make_propagators(gridshape,rsize,eV,subslices)\n",
    "\n",
    "# Set up thickness series\n",
    "tstep = 100\n",
    "thicknesses = np.arange(0,1001,tstep)\n",
    "nt = thicknesses.shape[0]\n",
    "\n",
    "nfph = 10\n",
    "\n",
    "output = np.zeros((nt,*gridshape))\n",
    "\n",
    "#Iteration over frozen phonon configurations\n",
    "for ifph in tqdm(range(nfph)):\n",
    "    # Make probe\n",
    "    probe = pyms.construct_illum(gridshape,rsize,eV,app)\n",
    "    \n",
    "    # Run multislice\n",
    "    for it,t in enumerate(thicknesses):\n",
    "        probe = pyms.multislice(probe,propagators,T,int(np.ceil(tstep/crystal.unitcell[2])),tiling=tiling)\n",
    "        output[it,...] += np.abs(np.fft.fftshift(np.fft.fft2(probe)))**2\n",
    "\n",
    "output/= nfph\n",
    "\n",
    "# Set up montage to plot output\n",
    "nn = int(np.ceil(np.sqrt(nt)))\n",
    "figsize= 8\n",
    "ncols = 3\n",
    "nrows = int(np.ceil(nt/ncols))\n",
    "fig,axes= plt.subplots(nrows=nrows,ncols=ncols,figsize=(figsize*ncols,figsize*nrows))\n",
    "\n",
    "for i in range(nrows*ncols): axes[i//ncols,i%ncols].set_axis_off()        \n",
    "\n",
    "# Helper function to crop output for viewing\n",
    "def crop(array,outsize):\n",
    "    insize = array.shape\n",
    "    return array[(insize[0]-outsize[0])//2:(insize[0]+outsize[0])//2,\n",
    "                 (insize[1]-outsize[1])//2:(insize[1]+outsize[1])//2]\n",
    "\n",
    "# Plot output\n",
    "for it,t in enumerate(thicknesses):\n",
    "    ax = axes[it//ncols,it%ncols]\n",
    "    ax.matshow(crop(output[it,...],[x//4 for x in gridshape]))\n",
    "    ax.set_title('{0} $\\\\AA$ Thickness'.format(int(t)))\n",
    "    "
   ]
  },
  {
   "cell_type": "code",
   "execution_count": null,
   "metadata": {},
   "outputs": [],
   "source": []
  }
 ],
 "metadata": {
  "kernelspec": {
   "display_name": "Python 3",
   "language": "python",
   "name": "python3"
  },
  "language_info": {
   "codemirror_mode": {
    "name": "ipython",
    "version": 3
   },
   "file_extension": ".py",
   "mimetype": "text/x-python",
   "name": "python",
   "nbconvert_exporter": "python",
   "pygments_lexer": "ipython3",
   "version": "3.7.3"
  }
 },
 "nbformat": 4,
 "nbformat_minor": 2
}
