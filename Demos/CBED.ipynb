{
 "cells": [
  {
   "cell_type": "markdown",
   "metadata": {},
   "source": [
    "We will simulate convergent beam electron diffraction (CBED) patterns for Dicalcium aluminium alumosilicate (http://www.crystallography.net/cod/1000048.html). This calculation ran in 22 seconds on my home 2 GB NVIDIA GTX 750 Ti and 5 min 22 seconds on my Intel i5 CPU."
   ]
  },
  {
   "cell_type": "code",
   "execution_count": 2,
   "metadata": {
    "tags": []
   },
   "outputs": [
    {
     "ename": "NotImplementedError",
     "evalue": "The operator 'aten::complex.out' is not current implemented for the MPS device. If you want this op to be added in priority during the prototype phase of this feature, please comment on https://github.com/pytorch/pytorch/issues/77764. As a temporary fix, you can set the environment variable `PYTORCH_ENABLE_MPS_FALLBACK=1` to use the CPU as a fallback for this op. WARNING: this will be slower than running natively on MPS.",
     "output_type": "error",
     "traceback": [
      "\u001b[0;31m---------------------------------------------------------------------------\u001b[0m",
      "\u001b[0;31mNotImplementedError\u001b[0m                       Traceback (most recent call last)",
      "Cell \u001b[0;32mIn[2], line 22\u001b[0m\n\u001b[1;32m     19\u001b[0m thicknesses \u001b[38;5;241m=\u001b[39m np\u001b[38;5;241m.\u001b[39marange(tstep,\u001b[38;5;241m301\u001b[39m,tstep)\n\u001b[1;32m     21\u001b[0m \u001b[38;5;66;03m# Use precision = 2 to make nicer looking CBEDs\u001b[39;00m\n\u001b[0;32m---> 22\u001b[0m CBED,invAperpix \u001b[38;5;241m=\u001b[39m \u001b[43mpyms\u001b[49m\u001b[38;5;241;43m.\u001b[39;49m\u001b[43mCBED\u001b[49m\u001b[43m(\u001b[49m\n\u001b[1;32m     23\u001b[0m \u001b[43m    \u001b[49m\u001b[43mcrystal\u001b[49m\u001b[43m,\u001b[49m\n\u001b[1;32m     24\u001b[0m \u001b[43m    \u001b[49m\u001b[43meV\u001b[49m\u001b[43m,\u001b[49m\n\u001b[1;32m     25\u001b[0m \u001b[43m    \u001b[49m\u001b[43mapp\u001b[49m\u001b[43m,\u001b[49m\n\u001b[1;32m     26\u001b[0m \u001b[43m    \u001b[49m\u001b[43mthicknesses\u001b[49m\u001b[43m,\u001b[49m\n\u001b[1;32m     27\u001b[0m \u001b[43m    \u001b[49m\u001b[43mshowProgress\u001b[49m\u001b[38;5;241;43m=\u001b[39;49m\u001b[38;5;124;43m'\u001b[39;49m\u001b[38;5;124;43mnotebook\u001b[39;49m\u001b[38;5;124;43m'\u001b[39;49m\u001b[43m,\u001b[49m\n\u001b[1;32m     28\u001b[0m \u001b[43m    \u001b[49m\u001b[43mprecision\u001b[49m\u001b[38;5;241;43m=\u001b[39;49m\u001b[38;5;241;43m2\u001b[39;49m\u001b[43m,\u001b[49m\n\u001b[1;32m     29\u001b[0m \u001b[43m    \u001b[49m\u001b[43mdevice_type\u001b[49m\u001b[38;5;241;43m=\u001b[39;49m\u001b[43m \u001b[49m\u001b[43mtorch\u001b[49m\u001b[38;5;241;43m.\u001b[39;49m\u001b[43mdevice\u001b[49m\u001b[43m(\u001b[49m\u001b[38;5;124;43m\"\u001b[39;49m\u001b[38;5;124;43mmps\u001b[39;49m\u001b[38;5;124;43m\"\u001b[39;49m\u001b[43m)\u001b[49m\n\u001b[1;32m     30\u001b[0m \u001b[43m)\u001b[49m\n\u001b[1;32m     32\u001b[0m \u001b[38;5;66;03m# Crop diffraction patterns to 3 inverse Angstrom\u001b[39;00m\n\u001b[1;32m     33\u001b[0m CBED \u001b[38;5;241m=\u001b[39m pyms\u001b[38;5;241m.\u001b[39mresample_diffraction_pattern(CBED,invAperpix,\u001b[38;5;28;01mNone\u001b[39;00m,\u001b[38;5;241m3\u001b[39m,justcrop\u001b[38;5;241m=\u001b[39m\u001b[38;5;28;01mTrue\u001b[39;00m)\n",
      "File \u001b[0;32m~/Projects/py_multislice/pyms/Premixed_routines.py:1787\u001b[0m, in \u001b[0;36mCBED\u001b[0;34m(structure, eV, app, thicknesses, gridshape, subslices, device_type, dtype, tiling, nT, nfph, showProgress, beam_tilt, specimen_tilt, df, tilt_units, aberrations, probe_posn, subslicing, nslices, precision, P, T, seed)\u001b[0m\n\u001b[1;32m   1785\u001b[0m \u001b[38;5;66;03m# Make propagators and transmission functions for multislice\u001b[39;00m\n\u001b[1;32m   1786\u001b[0m \u001b[38;5;28;01mif\u001b[39;00m P \u001b[38;5;129;01mis\u001b[39;00m \u001b[38;5;28;01mNone\u001b[39;00m \u001b[38;5;129;01mand\u001b[39;00m T \u001b[38;5;129;01mis\u001b[39;00m \u001b[38;5;28;01mNone\u001b[39;00m:\n\u001b[0;32m-> 1787\u001b[0m     P, T \u001b[38;5;241m=\u001b[39m \u001b[43mmultislice_precursor\u001b[49m\u001b[43m(\u001b[49m\n\u001b[1;32m   1788\u001b[0m \u001b[43m        \u001b[49m\u001b[43mstructure\u001b[49m\u001b[43m,\u001b[49m\n\u001b[1;32m   1789\u001b[0m \u001b[43m        \u001b[49m\u001b[43mgridshape\u001b[49m\u001b[43m,\u001b[49m\n\u001b[1;32m   1790\u001b[0m \u001b[43m        \u001b[49m\u001b[43meV\u001b[49m\u001b[43m,\u001b[49m\n\u001b[1;32m   1791\u001b[0m \u001b[43m        \u001b[49m\u001b[43msubslices\u001b[49m\u001b[38;5;241;43m=\u001b[39;49m\u001b[43msubslices\u001b[49m\u001b[43m,\u001b[49m\n\u001b[1;32m   1792\u001b[0m \u001b[43m        \u001b[49m\u001b[43mtiling\u001b[49m\u001b[38;5;241;43m=\u001b[39;49m\u001b[43mtiling\u001b[49m\u001b[43m,\u001b[49m\n\u001b[1;32m   1793\u001b[0m \u001b[43m        \u001b[49m\u001b[43mdtype\u001b[49m\u001b[38;5;241;43m=\u001b[39;49m\u001b[43mdtype\u001b[49m\u001b[43m,\u001b[49m\n\u001b[1;32m   1794\u001b[0m \u001b[43m        \u001b[49m\u001b[43mnT\u001b[49m\u001b[38;5;241;43m=\u001b[39;49m\u001b[43mnT\u001b[49m\u001b[43m,\u001b[49m\n\u001b[1;32m   1795\u001b[0m \u001b[43m        \u001b[49m\u001b[43mdevice\u001b[49m\u001b[38;5;241;43m=\u001b[39;49m\u001b[43mdevice\u001b[49m\u001b[43m,\u001b[49m\n\u001b[1;32m   1796\u001b[0m \u001b[43m        \u001b[49m\u001b[43mshowProgress\u001b[49m\u001b[38;5;241;43m=\u001b[39;49m\u001b[43mshowProgress\u001b[49m\u001b[43m,\u001b[49m\n\u001b[1;32m   1797\u001b[0m \u001b[43m        \u001b[49m\u001b[43mspecimen_tilt\u001b[49m\u001b[38;5;241;43m=\u001b[39;49m\u001b[43mspecimen_tilt\u001b[49m\u001b[43m,\u001b[49m\n\u001b[1;32m   1798\u001b[0m \u001b[43m        \u001b[49m\u001b[43mtilt_units\u001b[49m\u001b[38;5;241;43m=\u001b[39;49m\u001b[43mtilt_units\u001b[49m\u001b[43m,\u001b[49m\n\u001b[1;32m   1799\u001b[0m \u001b[43m        \u001b[49m\u001b[43mseed\u001b[49m\u001b[38;5;241;43m=\u001b[39;49m\u001b[43mseed\u001b[49m\u001b[43m,\u001b[49m\n\u001b[1;32m   1800\u001b[0m \u001b[43m    \u001b[49m\u001b[43m)\u001b[49m\n\u001b[1;32m   1802\u001b[0m t_ \u001b[38;5;241m=\u001b[39m np\u001b[38;5;241m.\u001b[39masarray(ensure_array(thicknesses))\n\u001b[1;32m   1804\u001b[0m output \u001b[38;5;241m=\u001b[39m np\u001b[38;5;241m.\u001b[39mzeros((t_\u001b[38;5;241m.\u001b[39mshape[\u001b[38;5;241m0\u001b[39m], \u001b[38;5;241m*\u001b[39msize_of_bandwidth_limited_array(gridshape)))\n",
      "File \u001b[0;32m~/Projects/py_multislice/pyms/Premixed_routines.py:1408\u001b[0m, in \u001b[0;36mmultislice_precursor\u001b[0;34m(structure, gridshape, eV, subslices, tiling, specimen_tilt, tilt_units, nT, device, dtype, showProgress, displacements, fractional_occupancy, seed, band_width_limiting)\u001b[0m\n\u001b[1;32m   1404\u001b[0m \u001b[38;5;28;01mif\u001b[39;00m (\n\u001b[1;32m   1405\u001b[0m     nT \u001b[38;5;241m>\u001b[39m\u001b[38;5;241m=\u001b[39m \u001b[38;5;241m1\u001b[39m\n\u001b[1;32m   1406\u001b[0m ):  \u001b[38;5;66;03m# If at least one independent multislice transmission functions sought, assume frozen phonon calculation\u001b[39;00m\n\u001b[1;32m   1407\u001b[0m     T \u001b[38;5;241m=\u001b[39m torch\u001b[38;5;241m.\u001b[39mzeros(nT, \u001b[38;5;28mlen\u001b[39m(subslices), \u001b[38;5;241m*\u001b[39mgridshape, device\u001b[38;5;241m=\u001b[39mdevice, dtype\u001b[38;5;241m=\u001b[39mdtype)\n\u001b[0;32m-> 1408\u001b[0m     T \u001b[38;5;241m=\u001b[39m \u001b[43mtorch\u001b[49m\u001b[38;5;241;43m.\u001b[39;49m\u001b[43mcomplex\u001b[49m\u001b[43m(\u001b[49m\u001b[38;5;241;43m*\u001b[39;49m\u001b[43m(\u001b[49m\u001b[38;5;241;43m2\u001b[39;49m\u001b[43m \u001b[49m\u001b[38;5;241;43m*\u001b[39;49m\u001b[43m \u001b[49m\u001b[43m[\u001b[49m\u001b[43mT\u001b[49m\u001b[43m]\u001b[49m\u001b[43m)\u001b[49m\u001b[43m)\u001b[49m\n\u001b[1;32m   1410\u001b[0m     \u001b[38;5;28;01mfor\u001b[39;00m i \u001b[38;5;129;01min\u001b[39;00m tqdm(\u001b[38;5;28mrange\u001b[39m(nT), desc\u001b[38;5;241m=\u001b[39m\u001b[38;5;124m\"\u001b[39m\u001b[38;5;124mMaking projected potentials\u001b[39m\u001b[38;5;124m\"\u001b[39m, disable\u001b[38;5;241m=\u001b[39mtdisable):\n\u001b[1;32m   1411\u001b[0m         T[i] \u001b[38;5;241m=\u001b[39m structure\u001b[38;5;241m.\u001b[39mmake_transmission_functions(\n\u001b[1;32m   1412\u001b[0m             gridshape,\n\u001b[1;32m   1413\u001b[0m             eV,\n\u001b[0;32m   (...)\u001b[0m\n\u001b[1;32m   1421\u001b[0m             bandwidth_limit\u001b[38;5;241m=\u001b[39mband_width_limiting[\u001b[38;5;241m1\u001b[39m],\n\u001b[1;32m   1422\u001b[0m         )\n",
      "\u001b[0;31mNotImplementedError\u001b[0m: The operator 'aten::complex.out' is not current implemented for the MPS device. If you want this op to be added in priority during the prototype phase of this feature, please comment on https://github.com/pytorch/pytorch/issues/77764. As a temporary fix, you can set the environment variable `PYTORCH_ENABLE_MPS_FALLBACK=1` to use the CPU as a fallback for this op. WARNING: this will be slower than running natively on MPS."
     ]
    }
   ],
   "source": [
    "import pyms\n",
    "import numpy as np\n",
    "import torch\n",
    "\n",
    "# Get crystal\n",
    "crystal = pyms.structure.fromfile('Structures/1000048.p1',temperature_factor_units='B')\n",
    "\n",
    "# Quick plot of crystal\n",
    "# crystal.quickplot()\n",
    "\n",
    "# Probe accelerating voltage in eV\n",
    "eV = 3e5\n",
    "\n",
    "# Probe forming aperture in mrad\n",
    "app = 3 \n",
    "\n",
    "# Set up thickness series (up to a 300 Angstrom in steps of 50 Angstrom)\n",
    "tstep = 50\n",
    "thicknesses = np.arange(tstep,301,tstep)\n",
    "\n",
    "# Use precision = 2 to make nicer looking CBEDs\n",
    "CBED,invAperpix = pyms.CBED(\n",
    "    crystal,\n",
    "    eV,\n",
    "    app,\n",
    "    thicknesses,\n",
    "    showProgress='notebook',\n",
    "    precision=2,\n",
    "    # device_type= torch.device(\"mps\")\n",
    ")\n",
    "\n",
    "# Crop diffraction patterns to 3 inverse Angstrom\n",
    "CBED = pyms.resample_diffraction_pattern(CBED,invAperpix,None,3,justcrop=True)\n",
    "\n",
    "#Now plot results\n",
    "import matplotlib.pyplot as plt\n",
    "%matplotlib inline\n",
    "nrows = int(np.ceil(np.sqrt(CBED.shape[0])))\n",
    "fig,axes = plt.subplots(nrows=nrows,ncols=nrows,figsize=(16,16))\n",
    "# for ax in axes.ravel():\n",
    "#     ax.set_axis_off()\n",
    "for i,out in enumerate(CBED):\n",
    "    ax = axes.ravel()[i]\n",
    "    ax.imshow(out,extent= invAperpix*np.asarray(out.shape))\n",
    "    ax.set_title('{0} $\\\\AA$'.format(thicknesses[i]))"
   ]
  },
  {
   "cell_type": "code",
   "execution_count": null,
   "metadata": {},
   "outputs": [],
   "source": [
    "#Now plot results\n",
    "import matplotlib.pyplot as plt\n",
    "%matplotlib inline\n",
    "nrows = int(np.ceil(np.sqrt(CBED.shape[0])))\n",
    "fig,axes = plt.subplots(nrows=nrows,ncols=nrows,figsize=(16,16))\n",
    "# \n",
    "for i,out in enumerate(CBED):\n",
    "    ax = axes.ravel()[i]\n",
    "    e = invAperpix*np.asarray(out.shape)\n",
    "    ax.imshow(out,extent= [-e[1]/2,e[1]/2,-e[0]/2,e[0]/2])\n",
    "    ax.set_ylabel('$\\\\AA^{-1}$')\n",
    "    ax.set_xlabel('$\\\\AA^{-1}$')\n",
    "    ax.set_title('CBED at {0} $\\\\AA$'.format(thicknesses[i]))\n",
    "# Hide unused axes\n",
    "for jj in range(i+1,len(axes.ravel())):\n",
    "    axes.ravel()[jj].set_axis_off()"
   ]
  }
 ],
 "metadata": {
  "kernelspec": {
   "display_name": "Python 3 (ipykernel)",
   "language": "python",
   "name": "python3"
  },
  "language_info": {
   "codemirror_mode": {
    "name": "ipython",
    "version": 3
   },
   "file_extension": ".py",
   "mimetype": "text/x-python",
   "name": "python",
   "nbconvert_exporter": "python",
   "pygments_lexer": "ipython3",
   "version": "3.10.14"
  }
 },
 "nbformat": 4,
 "nbformat_minor": 4
}
