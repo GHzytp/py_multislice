{
 "cells": [
  {
   "cell_type": "markdown",
   "metadata": {},
   "source": [
    "For this demonstration we will be simulating a SrTiO3 CeO2 interface downloaded from https://www.materialscloud.org/explore/stoceriaitf/grid/calculations. We first import the multislice library, read in and plot the crystal and set up some basic parameters for our simulation."
   ]
  },
  {
   "cell_type": "code",
   "execution_count": null,
   "metadata": {},
   "outputs": [],
   "source": [
    "import pyms\n",
    "import numpy as np\n",
    "\n",
    "%matplotlib inline\n",
    "\n",
    "#Get crystal\n",
    "# crystal = pyms.crystal('Demos/Structures/SrTiO3_CeO2_interface.xyz')\n",
    "crystal = pyms.crystal('Structures/Si100.xyz')\n",
    "\n",
    "#Quick plot of crystal\n",
    "crystal.quickplot(atomscale=1e-2)\n",
    "\n",
    "#Subslicing of crystal for multislice\n",
    "subslices = [1.35/5.43,2.7/5.43,1.0]\n",
    "nsubslices = len(subslices)\n",
    "\n",
    "#Grid size in pixels\n",
    "gridshape = [512,512]\n",
    "#gridshape = [1024,1024]\n",
    "tiling = [4,4]\n",
    "\n",
    "#Size of real space grid\n",
    "rsize = np.zeros((3,))\n",
    "rsize[:3]  = crystal.unitcell[:3]\n",
    "rsize[:2] *= np.asarray(tiling)\n",
    "\n",
    "#Number of transmission functions\n",
    "nT = 4\n",
    "\n",
    "#Probe accelerating voltage in eV\n",
    "eV = 3e5\n",
    "\n",
    "#Objective aperture in mrad\n",
    "app = 15\n",
    "\n",
    "#Number of frozen phonon passes\n",
    "nfph = 5"
   ]
  },
  {
   "cell_type": "markdown",
   "metadata": {},
   "source": [
    "Set up and look at transmission functions"
   ]
  },
  {
   "cell_type": "code",
   "execution_count": null,
   "metadata": {},
   "outputs": [],
   "source": [
    "import torch\n",
    "from pyms.utils import cx_to_numpy\n",
    "\n",
    "#Choose GPU if available and CPU if not\n",
    "if torch.cuda.is_available():\n",
    "    device = torch.device(\"cuda:0\")\n",
    "else:\n",
    "    device = torch.device(\"cpu\")\n",
    "\n",
    "#Subslice every 2 Angstrom\n",
    "nsubslices = int(np.ceil(crystal.unitcell[2]/2))\n",
    "subslices = np.linspace(1.0/nsubslices,1.0,num = nsubslices)\n",
    "\n",
    "#Initialize array to store transmission functions in\n",
    "T = torch.zeros(nT,nsubslices,*gridshape,2,device=device)\n",
    "\n",
    "#Make transmission functions\n",
    "for i in range(nT):\n",
    "    T[i,:,:,:] = crystal.make_transmission_functions(gridshape,eV,subslices,tiling,fftout=True,device=device)\n",
    "\n",
    "%matplotlib notebook\n",
    "from ipywidgets import interact, interactive, fixed, interact_manual\n",
    "import ipywidgets as widgets\n",
    "\n",
    "# from PIL import Image\n",
    "# Image.fromarray(np.angle(cx_to_numpy(T[0,0,...]))).save('Potential.tif')\n",
    "\n",
    "#Now plot transmission function with slider widget to inspect individual slices\n",
    "\n",
    "fig,ax = plt.subplots(figsize=(4,4))\n",
    "img = np.angle(cx_to_numpy(T[0,0,...]))\n",
    "p = ax.imshow(img,vmax=0.6*np.amax(img),vmin=np.amin(img))\n",
    "ax.set_axis_off()\n",
    "\n",
    "def plot_img(i,img,p):\n",
    "    p.set_data(np.angle(cx_to_numpy(img[0,i,...])))\n",
    "    fig.canvas.draw_idle()\n",
    "#     p.set_title()\n",
    "\n",
    "widg = widgets.IntSlider(\n",
    "    value=0,\n",
    "    min=0,\n",
    "    max=T.shape[1]-1,\n",
    "    step=1,\n",
    "    description='Slice:',\n",
    "    disabled=False,\n",
    "    continuous_update=True,\n",
    "    orientation='horizontal',\n",
    "    readout=True,\n",
    "    readout_format='d'\n",
    ")\n",
    "interact(plot_img,i=widg,img=fixed(T), p=fixed(p))\n",
    "\n",
    "# Check that the grid is of sufficient resolution for our planned 150 mrad\n",
    "# outer angle HAADF detector\n",
    "print('Max resolution of grid is {0:.1f} mrad, '.format(pyms.max_grid_resolution(gridshape,rsize,eV=eV)))"
   ]
  },
  {
   "cell_type": "markdown",
   "metadata": {},
   "source": [
    "Make some detectors"
   ]
  },
  {
   "cell_type": "code",
   "execution_count": null,
   "metadata": {},
   "outputs": [],
   "source": [
    "#Define detector inner...\n",
    "betamin = [0  ,7.5,70]\n",
    "#... and outer angles\n",
    "betamax = [7.5,15 ,150]\n",
    "\n",
    "ndet = len(betamax)\n",
    "\n",
    "detectors = np.zeros((ndet,*gridshape),dtype = np.float)\n",
    "\n",
    "fig,ax = plt.subplots(ncols=3,figsize=(12,4))\n",
    "\n",
    "for i in range(ndet):\n",
    "    detectors[i,...] = pyms.make_detector(gridshape,rsize,eV,betamax[i],betamin[i])\n",
    "    \n",
    "    ax[i].imshow(np.fft.fftshift(detectors[i,...]))\n",
    "    ax[i].set_axis_off()\n",
    "\n",
    "plt.show()"
   ]
  },
  {
   "cell_type": "markdown",
   "metadata": {},
   "source": [
    "Now calculate TEM images for a range of defocii"
   ]
  },
  {
   "cell_type": "code",
   "execution_count": null,
   "metadata": {},
   "outputs": [],
   "source": [
    "# Make Fresnel free-space propagators for multislice algorithm\n",
    "propagators = pyms.make_propagators(gridshape, rsize, eV, subslices)\n",
    "\n",
    "# Set up thickness series\n",
    "tstep = 100\n",
    "thicknesses = np.asarray([50,100, 200])\n",
    "nt = thicknesses.shape[0]\n",
    "\n",
    "nfph = 2\n",
    "\n",
    "images = []\n",
    "# Iteration over frozen phonon configurations\n",
    "for ifph in range(nfph):\n",
    "    # Make probe\n",
    "    probe = pyms.focused_probe(gridshape, rsize, eV, app)\n",
    "    # Run multislice\n",
    "    print(\"Frozen phonon iteration: {0:2d}/{1:2d}\".format(ifph+1, nfph))\n",
    "    images.append(\n",
    "        pyms.STEM(\n",
    "            rsize[:2],\n",
    "            probe,\n",
    "            propagators,\n",
    "            T,\n",
    "            np.ceil(thicknesses / crystal.unitcell[2]).astype(np.int),\n",
    "            eV,\n",
    "            app,\n",
    "            batch_size=50,\n",
    "            detectors=detectors,\n",
    "            tiling=tiling,\n",
    "        )\n",
    "    )\n",
    "images = np.average(images, axis=0)\n",
    "    "
   ]
  },
  {
   "cell_type": "markdown",
   "metadata": {},
   "source": [
    "Plot resulting images"
   ]
  },
  {
   "cell_type": "code",
   "execution_count": null,
   "metadata": {},
   "outputs": [],
   "source": [
    "nrows, ncols = [ndet, nt]\n",
    "fig, ax = plt.subplots(nrows=ndet, ncols=nt, figsize=(2 * ncols, 2 * nrows))\n",
    "\n",
    "for col in range(ncols):\n",
    "    ax[0,col].set_title('t = {0} '.format(thicknesses[col]))\n",
    "    for row in range(nrows):\n",
    "        ax[row, col].imshow(images[row, col, ...])\n",
    "        ax[row,col].set_xticks([])\n",
    "        ax[row,col].set_yticks([])\n",
    "        if(col==0): ax[row,0].set_ylabel('Detector {0}'.format(row+1))"
   ]
  },
  {
   "cell_type": "code",
   "execution_count": null,
   "metadata": {},
   "outputs": [],
   "source": []
  }
 ],
 "metadata": {
  "kernelspec": {
   "display_name": "Python 3",
   "language": "python",
   "name": "python3"
  },
  "language_info": {
   "codemirror_mode": {
    "name": "ipython",
    "version": 3
   },
   "file_extension": ".py",
   "mimetype": "text/x-python",
   "name": "python",
   "nbconvert_exporter": "python",
   "pygments_lexer": "ipython3",
   "version": "3.7.3"
  }
 },
 "nbformat": 4,
 "nbformat_minor": 2
}
